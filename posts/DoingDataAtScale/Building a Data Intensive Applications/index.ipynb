{
 "cells": [
  {
   "cell_type": "raw",
   "id": "59188721",
   "metadata": {},
   "source": [
    "---\n",
    "title: \"Building Data Intensive Applications - forecasting bike inventory\"\n",
    "date: \"2023-10-05\"\n",
    "categories: [DIA, Courses, DSAS]\n",
    "---"
   ]
  },
  {
   "cell_type": "markdown",
   "id": "29fddaa4",
   "metadata": {},
   "source": [
    "![Citibike](citibike.png)"
   ]
  },
  {
   "cell_type": "code",
   "execution_count": null,
   "id": "9e09007b",
   "metadata": {},
   "outputs": [],
   "source": [
    "# Coming in the spring of 2024"
   ]
  }
 ],
 "metadata": {
  "kernelspec": {
   "display_name": "Python [conda env:pyspark-330-delta-210] *",
   "language": "python",
   "name": "conda-env-pyspark-330-delta-210-py"
  },
  "language_info": {
   "codemirror_mode": {
    "name": "ipython",
    "version": 3
   },
   "file_extension": ".py",
   "mimetype": "text/x-python",
   "name": "python",
   "nbconvert_exporter": "python",
   "pygments_lexer": "ipython3",
   "version": "3.9.13"
  }
 },
 "nbformat": 4,
 "nbformat_minor": 5
}
