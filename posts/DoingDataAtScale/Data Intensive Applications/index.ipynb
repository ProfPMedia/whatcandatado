{
 "cells": [
  {
   "cell_type": "raw",
   "id": "8de5ae07",
   "metadata": {},
   "source": [
    "---\n",
    "title: \"Data Intensive Applications - Overview\"\n",
    "date: \"2023-10-01\"\n",
    "categories: [DIA, Courses, DSAS]\n",
    "---"
   ]
  },
  {
   "cell_type": "markdown",
   "id": "7f2b8fe4",
   "metadata": {},
   "source": [
    "![Data Intensive Application](dia.png)"
   ]
  },
  {
   "cell_type": "code",
   "execution_count": null,
   "id": "5ca18569",
   "metadata": {},
   "outputs": [],
   "source": [
    "# Coming in the spring of 2024"
   ]
  }
 ],
 "metadata": {
  "kernelspec": {
   "display_name": "Python [conda env:pyspark-330-delta-210] *",
   "language": "python",
   "name": "conda-env-pyspark-330-delta-210-py"
  },
  "language_info": {
   "codemirror_mode": {
    "name": "ipython",
    "version": 3
   },
   "file_extension": ".py",
   "mimetype": "text/x-python",
   "name": "python",
   "nbconvert_exporter": "python",
   "pygments_lexer": "ipython3",
   "version": "3.9.13"
  }
 },
 "nbformat": 4,
 "nbformat_minor": 5
}
