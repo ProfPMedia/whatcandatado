{
 "cells": [
  {
   "cell_type": "raw",
   "id": "b579e17c",
   "metadata": {},
   "source": [
    "---\n",
    "title: \"MLflow - Overview\"\n",
    "date: \"2023-10-04\"\n",
    "categories: [MLflow, Courses, DSAS, ML-OPS]\n",
    "--- "
   ]
  },
  {
   "cell_type": "markdown",
   "id": "caddd6c0",
   "metadata": {},
   "source": [
    "![MLflow](mlflow.png)"
   ]
  },
  {
   "cell_type": "code",
   "execution_count": null,
   "id": "83c1dba0",
   "metadata": {},
   "outputs": [],
   "source": [
    "# Coming in the spring of 2024"
   ]
  }
 ],
 "metadata": {
  "kernelspec": {
   "display_name": "Python [conda env:pyspark-330-delta-210] *",
   "language": "python",
   "name": "conda-env-pyspark-330-delta-210-py"
  },
  "language_info": {
   "codemirror_mode": {
    "name": "ipython",
    "version": 3
   },
   "file_extension": ".py",
   "mimetype": "text/x-python",
   "name": "python",
   "nbconvert_exporter": "python",
   "pygments_lexer": "ipython3",
   "version": "3.9.13"
  }
 },
 "nbformat": 4,
 "nbformat_minor": 5
}
