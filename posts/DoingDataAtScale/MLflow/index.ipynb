{
 "cells": [
  {
   "cell_type": "raw",
   "id": "8f722dc3",
   "metadata": {},
   "source": [
    "---\n",
    "title: \"MLflow - Overview\"\n",
    "date: \"2023-10-04\"\n",
    "categories: [MLflow, Courses, DSAS, ML-OPS]\n",
    "--- "
   ]
  },
  {
   "cell_type": "markdown",
   "id": "896d3202",
   "metadata": {},
   "source": [
    "![MLflow](mlflow.png)"
   ]
  }
 ],
 "metadata": {
  "kernelspec": {
   "display_name": "Python [conda env:pyspark-330-delta-210] *",
   "language": "python",
   "name": "conda-env-pyspark-330-delta-210-py"
  },
  "language_info": {
   "codemirror_mode": {
    "name": "ipython",
    "version": 3
   },
   "file_extension": ".py",
   "mimetype": "text/x-python",
   "name": "python",
   "nbconvert_exporter": "python",
   "pygments_lexer": "ipython3",
   "version": "3.9.13"
  }
 },
 "nbformat": 4,
 "nbformat_minor": 5
}
