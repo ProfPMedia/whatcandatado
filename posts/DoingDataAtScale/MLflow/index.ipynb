{
 "cells": [
  {
   "cell_type": "raw",
   "id": "b579e17c",
   "metadata": {},
   "source": [
    "---\n",
    "title: \"MLflow - Overview\"\n",
    "date: \"2023-10-04\"\n",
    "categories: [MLflow, Courses, DSAS, ML-OPS]\n",
    "--- "
   ]
  },
  {
   "cell_type": "markdown",
   "id": "caddd6c0",
   "metadata": {},
   "source": [
    "![MLflow](mlflow.png)\n",
    "---\n",
    "- [Accelerating the Machine Learning Lifecycle with MLflow](http://sites.computer.org/debull/A18dec/p39.pdf)\n",
    "- [mlflow documentation](https://mlflow.org/docs/latest/index.html)"
   ]
  },
  {
   "cell_type": "markdown",
   "id": "af13689d-c1af-4efd-8bd7-5ede2157ebea",
   "metadata": {},
   "source": [
    "## Key Features of MLflow:\n",
    "1. **Open Interface Design**: MLflow is designed with an open interface, allowing data scientists and engineers to bring their own training code, metrics, and inference logic while benefiting from a structured development process.\n",
    "  \n",
    "2. **Three Main Components**:\n",
    "   - **MLflow Tracking**: An API for recording experiment runs, including code used, parameters, input data, metrics, and arbitrary output files. This helps in keeping track of various experiments and their results.\n",
    "   - **MLflow Projects**: A format for packaging code into reusable projects. Each project defines its environment, the code to run, and parameters. It ensures reproducibility by packaging the entire environment and dependencies.\n",
    "   - **MLflow Models**: A generic format for packaging machine learning models in multiple formats, allowing diverse tools to understand the model at different levels of abstraction. It supports various deployment tools like batch, real-time inference, and cloud platforms.\n",
    "\n",
    "3. **Experiment Tracking**: MLflow provides a UI for tracking and visualizing experiments, allowing users to organize, search, sort, and compare runs.\n",
    "\n",
    "4. **Reproducibility**: MLflow Projects ensure that the same environment and dependencies are used, making it easy to reproduce results.\n",
    "\n",
    "5. **Model Packaging**: MLflow Models allow for the packaging of both the model and any custom logic, ensuring that they can be deployed and tested as a single unit.\n",
    "\n",
    "### Problems MLflow Solves:\n",
    "1. **Multitude of Tools**: MLflow addresses the challenge of using multiple tools at each phase of ML development.\n",
    "  \n",
    "2. **Experiment Tracking**: It provides a solution for tracking which parameters, code, and data went into each experiment.\n",
    "  \n",
    "3. **Reproducibility**: MLflow ensures that results can be reproduced, addressing challenges in getting the same code to work consistently.\n",
    "  \n",
    "4. **Production Deployment**: It simplifies the process of moving an application to production, ensuring that models are deployed reliably.\n",
    "\n",
    "### Significance of MLflow:\n",
    "1. **Flexibility**: Unlike other platforms that restrict users to specific algorithms or libraries, MLflow's open interface design provides flexibility while retaining the benefits of lifecycle management.\n",
    "  \n",
    "2. **Structured ML Lifecycle**: MLflow structures the machine learning lifecycle, ensuring reproducibility, deployability, and a standardized development process.\n",
    "  \n"
   ]
  }
 ],
 "metadata": {
  "kernelspec": {
   "display_name": "Python [conda env:pyspark-330-delta-210] *",
   "language": "python",
   "name": "conda-env-pyspark-330-delta-210-py"
  },
  "language_info": {
   "codemirror_mode": {
    "name": "ipython",
    "version": 3
   },
   "file_extension": ".py",
   "mimetype": "text/x-python",
   "name": "python",
   "nbconvert_exporter": "python",
   "pygments_lexer": "ipython3",
   "version": "3.9.13"
  }
 },
 "nbformat": 4,
 "nbformat_minor": 5
}
