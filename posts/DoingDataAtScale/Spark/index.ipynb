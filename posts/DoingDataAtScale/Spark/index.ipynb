{
 "cells": [
  {
   "cell_type": "raw",
   "id": "b9d4b321",
   "metadata": {},
   "source": [
    "---\n",
    "title: \"Spark- Overview\"\n",
    "date: \"2023-10-02\"\n",
    "categories: [Spark, Courses, DSAS]\n",
    "---"
   ]
  },
  {
   "cell_type": "markdown",
   "id": "852e17b3",
   "metadata": {},
   "source": [
    "![Spark](spark.png)"
   ]
  },
  {
   "cell_type": "code",
   "execution_count": null,
   "id": "fee0e813",
   "metadata": {},
   "outputs": [],
   "source": [
    "# Coming in the spring of 2024"
   ]
  }
 ],
 "metadata": {
  "kernelspec": {
   "display_name": "Python [conda env:pyspark-330-delta-210] *",
   "language": "python",
   "name": "conda-env-pyspark-330-delta-210-py"
  },
  "language_info": {
   "codemirror_mode": {
    "name": "ipython",
    "version": 3
   },
   "file_extension": ".py",
   "mimetype": "text/x-python",
   "name": "python",
   "nbconvert_exporter": "python",
   "pygments_lexer": "ipython3",
   "version": "3.9.13"
  }
 },
 "nbformat": 4,
 "nbformat_minor": 5
}
