{
 "cells": [
  {
   "cell_type": "raw",
   "id": "258c76ff",
   "metadata": {},
   "source": [
    "---\n",
    "title: \"Delta Lake - Overview\"\n",
    "date: \"2023-10-03\"\n",
    "categories: [DeltaLake, Courses, DSAS]\n",
    "---"
   ]
  },
  {
   "cell_type": "markdown",
   "id": "0147ec66",
   "metadata": {},
   "source": [
    "![Delta Lake](deltalake.png)"
   ]
  },
  {
   "cell_type": "code",
   "execution_count": null,
   "id": "3501bfa5",
   "metadata": {},
   "outputs": [],
   "source": [
    "# Coming in the spring of 2024"
   ]
  }
 ],
 "metadata": {
  "kernelspec": {
   "display_name": "Python [conda env:pyspark-330-delta-210] *",
   "language": "python",
   "name": "conda-env-pyspark-330-delta-210-py"
  },
  "language_info": {
   "codemirror_mode": {
    "name": "ipython",
    "version": 3
   },
   "file_extension": ".py",
   "mimetype": "text/x-python",
   "name": "python",
   "nbconvert_exporter": "python",
   "pygments_lexer": "ipython3",
   "version": "3.9.13"
  }
 },
 "nbformat": 4,
 "nbformat_minor": 5
}
