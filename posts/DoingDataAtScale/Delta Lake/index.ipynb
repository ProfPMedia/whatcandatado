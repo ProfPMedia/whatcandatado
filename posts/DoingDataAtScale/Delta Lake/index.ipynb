{
 "cells": [
  {
   "cell_type": "raw",
   "id": "9020c8ce",
   "metadata": {},
   "source": [
    "---\n",
    "title: \"Delta Lake\"\n",
    "date: \"2023-10-03\"\n",
    "categories: [DeltaLake, Courses, DSAS]\n",
    "---"
   ]
  },
  {
   "cell_type": "markdown",
   "id": "dd95f416",
   "metadata": {},
   "source": [
    "![Delta Lake](deltalake.png)"
   ]
  }
 ],
 "metadata": {
  "kernelspec": {
   "display_name": "Python [conda env:pyspark-330-delta-210] *",
   "language": "python",
   "name": "conda-env-pyspark-330-delta-210-py"
  },
  "language_info": {
   "codemirror_mode": {
    "name": "ipython",
    "version": 3
   },
   "file_extension": ".py",
   "mimetype": "text/x-python",
   "name": "python",
   "nbconvert_exporter": "python",
   "pygments_lexer": "ipython3",
   "version": "3.9.13"
  }
 },
 "nbformat": 4,
 "nbformat_minor": 5
}
