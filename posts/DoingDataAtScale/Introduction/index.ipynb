{
 "cells": [
  {
   "cell_type": "raw",
   "id": "f05e22e4-fcdf-4f4b-bc2f-33bd70d2feae",
   "metadata": {},
   "source": [
    "---\n",
    "title: \"Introduction\"\n",
    "date: \"2023-09-26\"\n",
    "categories: [Courses]\n",
    "---"
   ]
  },
  {
   "cell_type": "markdown",
   "id": "c1046151-189c-4db5-b886-51e67a38c72f",
   "metadata": {},
   "source": [
    "![Doing Data at Scale](data_at_scale.png)"
   ]
  },
  {
   "cell_type": "markdown",
   "id": "86d98617-a951-4757-8ba6-45f0c836aa61",
   "metadata": {},
   "source": [
    "## Modules\n",
    "- [Data intensive applications (DIA]('../Data Intensive Applications/index.ipynb')\n",
    "- Spark overview (distributed compute)\n",
    "- Spark Optimization - spark simulator \n",
    "- Data Engineering\n",
    "- Machine Learning Operations\n",
    "- End 2 End Application Development\n"
   ]
  },
  {
   "cell_type": "markdown",
   "id": "c43f317d-5086-401c-b106-1951c07b058e",
   "metadata": {},
   "source": [
    "Data intensive applications combine a large complement of data and compute to augment or replace human capacity for the benefit of optimizing important processes."
   ]
  },
  {
   "cell_type": "code",
   "execution_count": null,
   "id": "0f545f60-c228-4a1a-ac2f-2cd8983b2446",
   "metadata": {},
   "outputs": [],
   "source": []
  }
 ],
 "metadata": {
  "kernelspec": {
   "display_name": "Python 3",
   "language": "python",
   "name": "python3"
  },
  "language_info": {
   "codemirror_mode": {
    "name": "ipython",
    "version": 3
   },
   "file_extension": ".py",
   "mimetype": "text/x-python",
   "name": "python",
   "nbconvert_exporter": "python",
   "pygments_lexer": "ipython3",
   "version": "3.9.13"
  }
 },
 "nbformat": 4,
 "nbformat_minor": 5
}
