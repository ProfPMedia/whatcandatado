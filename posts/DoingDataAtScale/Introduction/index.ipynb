{
 "cells": [
  {
   "cell_type": "raw",
   "id": "f05e22e4-fcdf-4f4b-bc2f-33bd70d2feae",
   "metadata": {},
   "source": [
    "---\n",
    "title: \"Introduction\"\n",
    "date: \"2023-09-26\"\n",
    "categories: [Courses]\n",
    "---"
   ]
  },
  {
   "cell_type": "markdown",
   "id": "0b95dd30",
   "metadata": {},
   "source": [
    "Introduction to the Course\n",
    "\n",
    "You're introduced to the course structure and its objectives. The course is designed to provide you with hands-on experience in data-intensive application development. You'll be using the Databricks platform, which offers a unified analytics platform that combines big data and AI. This platform will be the primary tool for your learning journey.\n",
    "\n",
    "---"
   ]
  },
  {
   "cell_type": "markdown",
   "id": "f7b0ad45",
   "metadata": {},
   "source": [
    "Course Modules and Projects\n",
    "\n",
    "You'll be going through six modules in this course, each with its own set of objectives and activities. The course is structured around four projects. The final project is particularly interesting as you'll be building a lake house for transportation-based data and training a machine learning model. This project will be done in teams of four, and you'll be working on the Databricks enterprise platform. The grading system is explained, with the first three projects accounting for 50% of your grade and the final project making up the other 50%.\n",
    "\n",
    "---"
   ]
  },
  {
   "cell_type": "markdown",
   "id": "6cbe4c9c",
   "metadata": {},
   "source": [
    "Blackboard and Course Materials\n",
    "\n",
    "You're guided through the Blackboard platform, which will be essential for accessing course materials, announcements, and other relevant information. The platform also has a discussion board where you can post questions and engage with fellow students. It's emphasized that active participation in the discussion board can be beneficial for collaborative learning.\n",
    "\n",
    "---"
   ]
  },
  {
   "cell_type": "markdown",
   "id": "287823d1",
   "metadata": {},
   "source": [
    "Office Hours and TA Introduction\n",
    "\n",
    "You learn about the availability of weekly office hours via Zoom. Both the instructors are open to scheduling flexible timings based on your convenience. There's also a teaching assistant (TA) for the course, who will assist in various aspects, including the submission of notebooks.\n",
    "\n",
    "---"
   ]
  },
  {
   "cell_type": "markdown",
   "id": "74cf297e",
   "metadata": {},
   "source": [
    "Getting Started\n",
    "\n",
    "You're provided with a checklist of things to do to kickstart your learning:\n",
    "- Log into Blackboard and familiarize yourself with its features.\n",
    "- Read the course syllabus and schedule.\n",
    "- Complete the academic honesty quiz.\n",
    "- Set up a GitHub account.\n",
    "- Register for a Databricks community edition account.\n",
    "- Import the Learning Spark notebooks from GitHub to your Databricks account.\n",
    "\n",
    "---"
   ]
  },
  {
   "cell_type": "markdown",
   "id": "d1d875cc",
   "metadata": {},
   "source": [
    "Importance of Live Participation\n",
    "\n",
    "While the lectures will be recorded and made available for later viewing, you're encouraged to participate live in the Zoom sessions. Live participation allows for real-time interaction, immediate clarification of doubts, and a more engaging learning experience.\n",
    "\n",
    "---"
   ]
  },
  {
   "cell_type": "markdown",
   "id": "266b1881",
   "metadata": {},
   "source": [
    "Conclusion and Next Steps\n",
    "\n",
    "The session concludes with a reminder about the next lecture, which will delve into the introduction to data-intensive applications. You're encouraged to prepare and actively participate in the upcoming sessions.\n",
    "\n",
    "Remember, this course is designed to be hands-on, and you'll get the most out of it by actively engaging, asking questions, and collaborating with peers."
   ]
  }
 ],
 "metadata": {
  "kernelspec": {
   "display_name": "Python 3",
   "language": "python",
   "name": "python3"
  },
  "language_info": {
   "codemirror_mode": {
    "name": "ipython",
    "version": 3
   },
   "file_extension": ".py",
   "mimetype": "text/x-python",
   "name": "python",
   "nbconvert_exporter": "python",
   "pygments_lexer": "ipython3",
   "version": "3.10.8"
  }
 },
 "nbformat": 4,
 "nbformat_minor": 5
}
